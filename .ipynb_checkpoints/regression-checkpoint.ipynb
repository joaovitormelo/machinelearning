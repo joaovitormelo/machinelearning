{
 "cells": [
  {
   "cell_type": "code",
   "execution_count": 80,
   "id": "46677c0b-57c2-466f-9c14-77068afdc922",
   "metadata": {},
   "outputs": [],
   "source": [
    "#APRENDIZADO DE REGRESSÃO LINEAR\n",
    "import pandas as pd\n",
    "import quandl\n",
    "import math, datetime\n",
    "import numpy as np\n",
    "from sklearn.model_selection import train_test_split\n",
    "from sklearn import preprocessing, svm\n",
    "from sklearn.linear_model import LinearRegression\n",
    "import matplotlib.pyplot as plt\n",
    "from matplotlib import style\n",
    "import pickle"
   ]
  },
  {
   "cell_type": "code",
   "execution_count": 72,
   "id": "471f3a87",
   "metadata": {},
   "outputs": [],
   "source": [
    "style.use('ggplot')"
   ]
  },
  {
   "cell_type": "code",
   "execution_count": 3,
   "id": "926b8596-13ff-4ff3-96a7-c1dbafc53e32",
   "metadata": {},
   "outputs": [],
   "source": [
    "original = quandl.get('WIKI/GOOGL')"
   ]
  },
  {
   "cell_type": "code",
   "execution_count": 63,
   "id": "4fefec26-396c-409e-9778-bfcb4cd35f99",
   "metadata": {},
   "outputs": [],
   "source": [
    "df = original.copy()\n",
    "df['PCT_Volatility'] = (df['Adj. High'] - df['Adj. Low']) / df['Adj. Low'] * 100\n",
    "df['PCT_Change'] = (df['Adj. Close'] - df['Adj. Open']) / df['Adj. Open'] * 100\n",
    "df = df[['Adj. Close', 'PCT_Volatility', 'PCT_Change', 'Adj. Volume']]"
   ]
  },
  {
   "cell_type": "code",
   "execution_count": 64,
   "id": "cccf14af-2527-4e03-8e88-32032e50cb5d",
   "metadata": {},
   "outputs": [],
   "source": [
    "#PROCESS OF LABEL CREATION. WE HAVE A SET OF FEATURES, AND WANT TO CONVERT, IN THAT CASE, ONE OF THEM INTO LABELS\n",
    "#THE IDEA IS TO DESIGNATE THE Adj. Close COLUMN forecast_out DAYS IN THE FUTURE AS THE LABEL FOR TODAY.\n",
    "#FROM THAT, WE CREATE A LABELED DATASET TO TRAIN OUR MODEL, THAT WILL TRY TO PREDICT THE Adj. Close forecast_out DAYS IN THE\n",
    "#FUTURE BASED ON THESE FEATURES WE'VE SELECTED, AND WE ALREADY HAVE A TRAINING SET.\n",
    "invalid = -99999\n",
    "forecast_col = 'Adj. Close'\n",
    "df.fillna(invalid, inplace=True)\n",
    "forecast_out = int(math.ceil(0.01 * len(df)))\n",
    "df[\"label\"] = df[forecast_col].shift(-forecast_out)"
   ]
  },
  {
   "cell_type": "code",
   "execution_count": 65,
   "id": "9f456578",
   "metadata": {},
   "outputs": [
    {
     "data": {
      "text/html": [
       "<div>\n",
       "<style scoped>\n",
       "    .dataframe tbody tr th:only-of-type {\n",
       "        vertical-align: middle;\n",
       "    }\n",
       "\n",
       "    .dataframe tbody tr th {\n",
       "        vertical-align: top;\n",
       "    }\n",
       "\n",
       "    .dataframe thead th {\n",
       "        text-align: right;\n",
       "    }\n",
       "</style>\n",
       "<table border=\"1\" class=\"dataframe\">\n",
       "  <thead>\n",
       "    <tr style=\"text-align: right;\">\n",
       "      <th></th>\n",
       "      <th>Adj. Close</th>\n",
       "      <th>PCT_Volatility</th>\n",
       "      <th>PCT_Change</th>\n",
       "      <th>Adj. Volume</th>\n",
       "      <th>label</th>\n",
       "    </tr>\n",
       "    <tr>\n",
       "      <th>Date</th>\n",
       "      <th></th>\n",
       "      <th></th>\n",
       "      <th></th>\n",
       "      <th></th>\n",
       "      <th></th>\n",
       "    </tr>\n",
       "  </thead>\n",
       "  <tbody>\n",
       "    <tr>\n",
       "      <th>2004-08-19</th>\n",
       "      <td>50.322842</td>\n",
       "      <td>8.441017</td>\n",
       "      <td>0.324968</td>\n",
       "      <td>44659000.0</td>\n",
       "      <td>69.078238</td>\n",
       "    </tr>\n",
       "    <tr>\n",
       "      <th>2004-08-20</th>\n",
       "      <td>54.322689</td>\n",
       "      <td>8.537313</td>\n",
       "      <td>7.227007</td>\n",
       "      <td>22834300.0</td>\n",
       "      <td>67.839414</td>\n",
       "    </tr>\n",
       "    <tr>\n",
       "      <th>2004-08-23</th>\n",
       "      <td>54.869377</td>\n",
       "      <td>4.062357</td>\n",
       "      <td>-1.227880</td>\n",
       "      <td>18256100.0</td>\n",
       "      <td>68.912727</td>\n",
       "    </tr>\n",
       "    <tr>\n",
       "      <th>2004-08-24</th>\n",
       "      <td>52.597363</td>\n",
       "      <td>7.753210</td>\n",
       "      <td>-5.726357</td>\n",
       "      <td>15247300.0</td>\n",
       "      <td>70.668146</td>\n",
       "    </tr>\n",
       "    <tr>\n",
       "      <th>2004-08-25</th>\n",
       "      <td>53.164113</td>\n",
       "      <td>3.966115</td>\n",
       "      <td>1.183658</td>\n",
       "      <td>9188600.0</td>\n",
       "      <td>71.219849</td>\n",
       "    </tr>\n",
       "    <tr>\n",
       "      <th>...</th>\n",
       "      <td>...</td>\n",
       "      <td>...</td>\n",
       "      <td>...</td>\n",
       "      <td>...</td>\n",
       "      <td>...</td>\n",
       "    </tr>\n",
       "    <tr>\n",
       "      <th>2018-03-21</th>\n",
       "      <td>1094.000000</td>\n",
       "      <td>1.976619</td>\n",
       "      <td>0.130884</td>\n",
       "      <td>1990515.0</td>\n",
       "      <td>NaN</td>\n",
       "    </tr>\n",
       "    <tr>\n",
       "      <th>2018-03-22</th>\n",
       "      <td>1053.150000</td>\n",
       "      <td>3.265882</td>\n",
       "      <td>-2.487014</td>\n",
       "      <td>3418154.0</td>\n",
       "      <td>NaN</td>\n",
       "    </tr>\n",
       "    <tr>\n",
       "      <th>2018-03-23</th>\n",
       "      <td>1026.550000</td>\n",
       "      <td>4.089299</td>\n",
       "      <td>-2.360729</td>\n",
       "      <td>2413517.0</td>\n",
       "      <td>NaN</td>\n",
       "    </tr>\n",
       "    <tr>\n",
       "      <th>2018-03-26</th>\n",
       "      <td>1054.090000</td>\n",
       "      <td>4.818025</td>\n",
       "      <td>0.332191</td>\n",
       "      <td>3272409.0</td>\n",
       "      <td>NaN</td>\n",
       "    </tr>\n",
       "    <tr>\n",
       "      <th>2018-03-27</th>\n",
       "      <td>1006.940000</td>\n",
       "      <td>6.707965</td>\n",
       "      <td>-5.353887</td>\n",
       "      <td>2940957.0</td>\n",
       "      <td>NaN</td>\n",
       "    </tr>\n",
       "  </tbody>\n",
       "</table>\n",
       "<p>3424 rows × 5 columns</p>\n",
       "</div>"
      ],
      "text/plain": [
       "             Adj. Close  PCT_Volatility  PCT_Change  Adj. Volume      label\n",
       "Date                                                                       \n",
       "2004-08-19    50.322842        8.441017    0.324968   44659000.0  69.078238\n",
       "2004-08-20    54.322689        8.537313    7.227007   22834300.0  67.839414\n",
       "2004-08-23    54.869377        4.062357   -1.227880   18256100.0  68.912727\n",
       "2004-08-24    52.597363        7.753210   -5.726357   15247300.0  70.668146\n",
       "2004-08-25    53.164113        3.966115    1.183658    9188600.0  71.219849\n",
       "...                 ...             ...         ...          ...        ...\n",
       "2018-03-21  1094.000000        1.976619    0.130884    1990515.0        NaN\n",
       "2018-03-22  1053.150000        3.265882   -2.487014    3418154.0        NaN\n",
       "2018-03-23  1026.550000        4.089299   -2.360729    2413517.0        NaN\n",
       "2018-03-26  1054.090000        4.818025    0.332191    3272409.0        NaN\n",
       "2018-03-27  1006.940000        6.707965   -5.353887    2940957.0        NaN\n",
       "\n",
       "[3424 rows x 5 columns]"
      ]
     },
     "execution_count": 65,
     "metadata": {},
     "output_type": "execute_result"
    }
   ],
   "source": [
    "df"
   ]
  },
  {
   "cell_type": "code",
   "execution_count": 66,
   "id": "099e6ab2-22dd-4ace-815b-67f648c20193",
   "metadata": {},
   "outputs": [
    {
     "name": "stderr",
     "output_type": "stream",
     "text": [
      "C:\\Users\\joaog\\AppData\\Local\\Temp/ipykernel_13396/1146789416.py:2: FutureWarning: In a future version of pandas all arguments of DataFrame.drop except for the argument 'labels' will be keyword-only\n",
      "  X = np.array(df.drop(['label'], 1))\n"
     ]
    }
   ],
   "source": [
    "#PRE-PROCESS FEATURES: THE X AXIS, THE VARIABLES\n",
    "X = np.array(df.drop(['label'], 1))\n",
    "X = preprocessing.scale(X)\n",
    "X = X[:-forecast_out]\n",
    "X_lately = X[-forecast_out:]\n",
    "df.dropna(inplace=True)"
   ]
  },
  {
   "cell_type": "code",
   "execution_count": 67,
   "id": "69a1004c",
   "metadata": {},
   "outputs": [
    {
     "data": {
      "text/plain": [
       "array([[-1.39187095,  4.32619572,  0.23254018,  4.46712802],\n",
       "       [-1.37635178,  4.39248725,  4.81828847,  1.8207495 ],\n",
       "       [-1.37423066,  1.3118745 , -0.79917922,  1.26561472],\n",
       "       ...,\n",
       "       [ 2.99737935, -0.41972655,  0.33301614, -0.61156746],\n",
       "       [ 2.7553098 , -0.23757011, -0.46778619, -0.24489949],\n",
       "       [ 2.55960556,  2.30998825, -1.90605746, -0.49425191]])"
      ]
     },
     "execution_count": 67,
     "metadata": {},
     "output_type": "execute_result"
    }
   ],
   "source": [
    "X"
   ]
  },
  {
   "cell_type": "code",
   "execution_count": 68,
   "id": "d306eeae",
   "metadata": {},
   "outputs": [],
   "source": [
    "#PRE-PROCESS THE LABELS: THE Y AXIS\n",
    "Y = np.array(df['label'])"
   ]
  },
  {
   "cell_type": "code",
   "execution_count": 81,
   "id": "08e025a6",
   "metadata": {},
   "outputs": [
    {
     "name": "stdout",
     "output_type": "stream",
     "text": [
      "0.976732162513751\n"
     ]
    }
   ],
   "source": [
    "#This separates data into training and test data (cross validation)\n",
    "X_train, X_test, Y_train, Y_test = train_test_split(X, Y, test_size=0.2)\n",
    "#Creates a classifier\n",
    "clf = LinearRegression()\n",
    "#Train it\n",
    "clf.fit(X_train, Y_train)\n",
    "\n",
    "#Save the classifier with pickle in a file (in order to not have to train it again)\n",
    "with open('linear_regression.pickle', 'wb') as f:\n",
    "    pickle.dump(clf, f)\n",
    "\n",
    "#load a saved classifier\n",
    "pickle_in = open('linear_regression.pickle', 'rb')\n",
    "clf = pickle.load(pickle_in)\n",
    "    \n",
    "#Test it\n",
    "accuracy = clf.score(X_test, Y_test)\n",
    "\n",
    "print(accuracy)"
   ]
  },
  {
   "cell_type": "code",
   "execution_count": 70,
   "id": "76834584",
   "metadata": {},
   "outputs": [
    {
     "data": {
      "text/plain": [
       "array([1076.96996111, 1090.98660799, 1104.58678631, 1099.69113184,\n",
       "       1093.40021469, 1091.10822652, 1089.60871174, 1085.96363174,\n",
       "       1080.28270619, 1075.84743966, 1073.79374175, 1091.80258912,\n",
       "       1110.37500536, 1116.10410159, 1130.48245292, 1134.81423937,\n",
       "       1133.27836491, 1130.77104814, 1132.56935724, 1149.75999399,\n",
       "       1150.16622207, 1159.27813761, 1156.1349608 , 1164.10988297,\n",
       "       1183.63217952, 1196.99692856, 1191.44511927, 1203.01034485,\n",
       "       1207.75201583, 1207.31235091, 1198.07048991, 1202.9437018 ,\n",
       "       1201.59043365, 1137.54028622, 1083.56086689])"
      ]
     },
     "execution_count": 70,
     "metadata": {},
     "output_type": "execute_result"
    }
   ],
   "source": [
    "forecast_set = clf.predict(X_lately)\n",
    "forecast_set"
   ]
  },
  {
   "cell_type": "code",
   "execution_count": 74,
   "id": "cc18d7f5",
   "metadata": {},
   "outputs": [],
   "source": [
    "df['Forecast'] = np.nan\n",
    "last_date = df.iloc[-1].name\n",
    "last_unix = last_date.timestamp()\n",
    "one_day = 86400\n",
    "next_unix = last_unix + one_day"
   ]
  },
  {
   "cell_type": "code",
   "execution_count": 83,
   "id": "679fe62f",
   "metadata": {},
   "outputs": [],
   "source": [
    "for i in range(forecast_out):\n",
    "    next_date = datetime.datetime.fromtimestamp(next_unix)\n",
    "    next_unix += one_day\n",
    "    df.loc[next_date] = [np.nan for _ in range(len(df.columns) - 1)] + [df.iloc[-(forecast_out - i)]['label']]"
   ]
  },
  {
   "cell_type": "code",
   "execution_count": 84,
   "id": "a8941a2d",
   "metadata": {},
   "outputs": [],
   "source": [
    "for i in forecast_set:\n",
    "    next_date = datetime.datetime.fromtimestamp(next_unix)\n",
    "    next_unix += one_day\n",
    "    df.loc[next_date] = [np.nan for _ in range(len(df.columns) - 1)] + [i]"
   ]
  },
  {
   "cell_type": "code",
   "execution_count": 88,
   "id": "c22dcb30",
   "metadata": {},
   "outputs": [
    {
     "data": {
      "image/png": "[encoded data removed]",
      "text/plain": [
       "<Figure size 432x288 with 1 Axes>"
      ]
     },
     "metadata": {},
     "output_type": "display_data"
    }
   ],
   "source": [
    "df['Adj. Close'].plot()\n",
    "df['Forecast'].plot()\n",
    "plt.legend(loc=4)\n",
    "plt.xlabel('Date')\n",
    "plt.ylabel('Price')\n",
    "plt.show()"
   ]
  }
 ],
 "metadata": {
  "kernelspec": {
   "display_name": "Python 3 (ipykernel)",
   "language": "python",
   "name": "python3"
  },
  "language_info": {
   "codemirror_mode": {
    "name": "ipython",
    "version": 3
   },
   "file_extension": ".py",
   "mimetype": "text/x-python",
   "name": "python",
   "nbconvert_exporter": "python",
   "pygments_lexer": "ipython3",
   "version": "3.10.4"
  }
 },
 "nbformat": 4,
 "nbformat_minor": 5
}
