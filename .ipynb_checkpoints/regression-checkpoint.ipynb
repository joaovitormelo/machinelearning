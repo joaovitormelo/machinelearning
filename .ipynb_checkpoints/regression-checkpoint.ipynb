{
 "cells": [
  {
   "cell_type": "code",
   "execution_count": 24,
   "id": "46677c0b-57c2-466f-9c14-77068afdc922",
   "metadata": {},
   "outputs": [],
   "source": [
    "#APRENDIZADO DE REGRESSÃO LINEAR\n",
    "import pandas as pd\n",
    "import quandl\n",
    "import math\n",
    "import numpy as np\n",
    "from sklearn.model_selection import train_test_split\n",
    "from sklearn import preprocessing, svm\n",
    "from sklearn.linear_model import LinearRegression"
   ]
  },
  {
   "cell_type": "code",
   "execution_count": 3,
   "id": "926b8596-13ff-4ff3-96a7-c1dbafc53e32",
   "metadata": {},
   "outputs": [],
   "source": [
    "original = quandl.get('WIKI/GOOGL')"
   ]
  },
  {
   "cell_type": "code",
   "execution_count": 4,
   "id": "4fefec26-396c-409e-9778-bfcb4cd35f99",
   "metadata": {},
   "outputs": [],
   "source": [
    "df = original.copy()\n",
    "df['PCT_Volatility'] = (df['Adj. High'] - df['Adj. Low']) / df['Adj. Low'] * 100\n",
    "df['PCT_Change'] = (df['Adj. Close'] - df['Adj. Open']) / df['Adj. Open'] * 100\n",
    "df = df[['Adj. Close', 'PCT_Volatility', 'PCT_Change', 'Adj. Volume']]"
   ]
  },
  {
   "cell_type": "code",
   "execution_count": 5,
   "id": "cccf14af-2527-4e03-8e88-32032e50cb5d",
   "metadata": {},
   "outputs": [],
   "source": [
    "#PROCESS OF LABEL CREATION. WE HAVE A SET OF FEATURES, AND WANT TO CONVERT, IN THAT CASE, ONE OF THEM INTO LABELS\n",
    "#THE IDEA IS TO DESIGNATE THE Adj. Close COLUMN forecast_out DAYS IN THE FUTURE AS THE LABEL FOR TODAY.\n",
    "#FROM THAT, WE CREATE A LABELED DATASET TO TRAIN OUR MODEL, THAT WILL TRY TO PREDICT THE Adj. Close forecast_out DAYS IN THE\n",
    "#FUTURE BASED ON THESE FEATURES WE'VE SELECTED, AND WE ALREADY HAVE A TRAINING SET.\n",
    "invalid = -99999\n",
    "forecast_col = 'Adj. Close'\n",
    "df.fillna(invalid, inplace=True)\n",
    "forecast_out = int(math.ceil(0.01 * len(df)))\n",
    "df[\"label\"] = df[forecast_col].shift(-forecast_out)\n",
    "df.dropna(inplace=True)"
   ]
  },
  {
   "cell_type": "code",
   "execution_count": 13,
   "id": "099e6ab2-22dd-4ace-815b-67f648c20193",
   "metadata": {},
   "outputs": [
    {
     "name": "stderr",
     "output_type": "stream",
     "text": [
      "C:\\Users\\joaog\\AppData\\Local\\Temp/ipykernel_13396/884488963.py:1: FutureWarning: In a future version of pandas all arguments of DataFrame.drop except for the argument 'labels' will be keyword-only\n",
      "  X = np.array(df.drop(['label'], 1))\n"
     ]
    }
   ],
   "source": [
    "X = np.array(df.drop(['label'], 1))\n",
    "Y = np.array(df['label'])\n",
    "X = preprocessing.scale(X)"
   ]
  },
  {
   "cell_type": "code",
   "execution_count": 31,
   "id": "03f6bd9d",
   "metadata": {},
   "outputs": [
    {
     "name": "stdout",
     "output_type": "stream",
     "text": [
      "0.978183684851515\n"
     ]
    }
   ],
   "source": [
    "#This separates data into training and test data (cross validation)\n",
    "X_train, X_test, Y_train, Y_test = train_test_split(X, Y, test_size=0.2)\n",
    "#Creates a classifier\n",
    "clf = LinearRegression()\n",
    "#Train it\n",
    "clf.fit(X_train, Y_train)\n",
    "#Test it\n",
    "accuracy = clf.score(X_test, Y_test)\n",
    "\n",
    "print(accuracy)"
   ]
  }
 ],
 "metadata": {
  "kernelspec": {
   "display_name": "Python 3 (ipykernel)",
   "language": "python",
   "name": "python3"
  },
  "language_info": {
   "codemirror_mode": {
    "name": "ipython",
    "version": 3
   },
   "file_extension": ".py",
   "mimetype": "text/x-python",
   "name": "python",
   "nbconvert_exporter": "python",
   "pygments_lexer": "ipython3",
   "version": "3.10.4"
  }
 },
 "nbformat": 4,
 "nbformat_minor": 5
}
